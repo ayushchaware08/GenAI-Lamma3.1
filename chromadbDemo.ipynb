{
 "cells": [
  {
   "cell_type": "markdown",
   "id": "6efff716",
   "metadata": {},
   "source": [
    "https://docs.trychroma.com/docs/overview/getting-started"
   ]
  },
  {
   "cell_type": "code",
   "execution_count": 1,
   "id": "10ed518d",
   "metadata": {},
   "outputs": [],
   "source": [
    "import chromadb\n",
    "\n",
    "# Initialize the ChromaDB client and create a collection\n",
    "client = chromadb.Client()\n",
    "# \n",
    "collection = client.create_collection(name=\"test_collection\")"
   ]
  },
  {
   "cell_type": "code",
   "execution_count": 2,
   "id": "c9829699",
   "metadata": {},
   "outputs": [],
   "source": [
    "# Add some text documents to the collection\n",
    "collection.add(\n",
    "    documents=[\n",
    "        \"This is a document about pineapple\",\n",
    "        \"This is a document about oranges\"\n",
    "    ],\n",
    "    ids=[\"id1\", \"id2\"]\n",
    ")\n"
   ]
  },
  {
   "cell_type": "code",
   "execution_count": 3,
   "id": "9fca435a",
   "metadata": {},
   "outputs": [
    {
     "data": {
      "text/plain": [
       "{'ids': ['id1', 'id2'],\n",
       " 'embeddings': None,\n",
       " 'documents': ['This is a document about pineapple',\n",
       "  'This is a document about oranges'],\n",
       " 'uris': None,\n",
       " 'included': ['metadatas', 'documents'],\n",
       " 'data': None,\n",
       " 'metadatas': [None, None]}"
      ]
     },
     "execution_count": 3,
     "metadata": {},
     "output_type": "execute_result"
    }
   ],
   "source": [
    "all_docs = collection.get()\n",
    "all_docs"
   ]
  },
  {
   "cell_type": "code",
   "execution_count": 5,
   "id": "3eab1f0e",
   "metadata": {},
   "outputs": [
    {
     "name": "stdout",
     "output_type": "stream",
     "text": [
      "dict_keys(['ids', 'embeddings', 'documents', 'uris', 'included', 'data', 'metadatas', 'distances'])\n",
      "{'ids': [['id2', 'id1']], 'embeddings': None, 'documents': [['This is a document about oranges', 'This is a document about pineapple']], 'uris': None, 'included': ['metadatas', 'documents', 'distances'], 'data': None, 'metadatas': [[None, None]], 'distances': [[1.1462137699127197, 1.3015384674072266]]}\n",
      "[['id2', 'id1']]\n",
      "[['This is a document about oranges', 'This is a document about pineapple']]\n",
      "[[1.1462137699127197, 1.3015384674072266]]\n"
     ]
    }
   ],
   "source": [
    "# Query the Collection\n",
    "results = collection.query(\n",
    "    query_texts=[\"This is a query document about florida\"], # Chroma will embed this for you\n",
    "    n_results=2 # how many results to return\n",
    ")\n",
    "print(results.keys())\n",
    "print(results)\n",
    "print(results[\"ids\"])\n",
    "print(results[\"documents\"])\n",
    "print(results[\"distances\"])\n",
    "\n",
    "# flourida is most sematically similar to oranges\n",
    "# as Florida is famous for orange production (it's one of the largest orange-producing states in the U.S.)\n",
    "\n"
   ]
  },
  {
   "cell_type": "code",
   "execution_count": 5,
   "id": "51d8c197",
   "metadata": {},
   "outputs": [
    {
     "name": "stdout",
     "output_type": "stream",
     "text": [
      "dict_keys(['ids', 'embeddings', 'documents', 'uris', 'included', 'data', 'metadatas', 'distances'])\n",
      "{'ids': [['id1', 'id2']], 'embeddings': None, 'documents': [['This is a document about pineapple', 'This is a document about oranges']], 'uris': None, 'included': ['metadatas', 'documents', 'distances'], 'data': None, 'metadatas': [[None, None]], 'distances': [[1.0404009819030762, 1.2430799007415771]]}\n",
      "[['id1', 'id2']]\n",
      "[['This is a document about pineapple', 'This is a document about oranges']]\n",
      "[[1.0404009819030762, 1.2430799007415771]]\n"
     ]
    }
   ],
   "source": [
    "# Query the Collection\n",
    "# check distances b/w query and document\n",
    "results = collection.query(\n",
    "    query_texts=[\"This is a query document about hawaii\"], # Chroma will embed this for you\n",
    "    n_results=2 # how many results to return\n",
    ")\n",
    "print(results.keys())\n",
    "print(results)\n",
    "print(results[\"ids\"])\n",
    "print(results[\"documents\"])\n",
    "print(results[\"distances\"])\n",
    "\n",
    "# havaii is semantically most similar to pineapple\n",
    "# Hawaii is historically known for large pineapple plantations\n"
   ]
  },
  {
   "cell_type": "code",
   "execution_count": 33,
   "id": "04f31d96",
   "metadata": {},
   "outputs": [
    {
     "data": {
      "text/plain": [
       "{'documents': [['This is a document about pineapple',\n",
       "   'This is a document about oranges']],\n",
       " 'ids': [['id1', 'id2']],\n",
       " 'distances': [[1.0404009819030762, 1.243080496788025]],\n",
       " 'uris': None,\n",
       " 'data': None,\n",
       " 'metadatas': [[None, None]],\n",
       " 'embeddings': None}"
      ]
     },
     "execution_count": 33,
     "metadata": {},
     "output_type": "execute_result"
    }
   ],
   "source": [
    "# Inspect Results\n",
    "{\n",
    "  'documents': [[\n",
    "      'This is a document about pineapple',\n",
    "      'This is a document about oranges'\n",
    "  ]],\n",
    "  'ids': [['id1', 'id2']],\n",
    "  'distances': [[1.0404009819030762, 1.243080496788025]],\n",
    "  'uris': None,\n",
    "  'data': None,\n",
    "  'metadatas': [[None, None]],\n",
    "  'embeddings': None,\n",
    "}\n",
    "\n"
   ]
  },
  {
   "cell_type": "code",
   "execution_count": 34,
   "id": "dedb3956",
   "metadata": {},
   "outputs": [
    {
     "data": {
      "text/plain": [
       "{'ids': [],\n",
       " 'embeddings': None,\n",
       " 'documents': [],\n",
       " 'uris': None,\n",
       " 'included': ['metadatas', 'documents'],\n",
       " 'data': None,\n",
       " 'metadatas': []}"
      ]
     },
     "execution_count": 34,
     "metadata": {},
     "output_type": "execute_result"
    }
   ],
   "source": [
    "# Delete all data\n",
    "collection.delete(ids=all_docs['ids'])\n",
    "collection.get()"
   ]
  },
  {
   "cell_type": "markdown",
   "id": "123ee906",
   "metadata": {},
   "source": [
    "### Using Metadata"
   ]
  },
  {
   "cell_type": "code",
   "execution_count": 6,
   "id": "d1044f17",
   "metadata": {},
   "outputs": [],
   "source": [
    "collection.add(\n",
    "    documents=[\n",
    "        \"This is a document about cpu\",\n",
    "        \"This is a document about gpu\"\n",
    "    ],\n",
    "    ids=[\"id3\", \"id4\"],\n",
    "    metadatas=[{\"url\": \"https://en.wikipedia.org/wiki/Central_processing_unit\"}, {\"url\": \"https://en.wikipedia.org/wiki/Graphics_processing_unit\"}]\n",
    ")"
   ]
  },
  {
   "cell_type": "code",
   "execution_count": 7,
   "id": "6493e193",
   "metadata": {},
   "outputs": [
    {
     "data": {
      "text/plain": [
       "{'ids': ['id1', 'id2', 'id3', 'id4'],\n",
       " 'embeddings': None,\n",
       " 'documents': ['This is a document about pineapple',\n",
       "  'This is a document about oranges',\n",
       "  'This is a document about cpu',\n",
       "  'This is a document about gpu'],\n",
       " 'uris': None,\n",
       " 'included': ['metadatas', 'documents'],\n",
       " 'data': None,\n",
       " 'metadatas': [None,\n",
       "  None,\n",
       "  {'url': 'https://en.wikipedia.org/wiki/Central_processing_unit'},\n",
       "  {'url': 'https://en.wikipedia.org/wiki/Graphics_processing_unit'}]}"
      ]
     },
     "execution_count": 7,
     "metadata": {},
     "output_type": "execute_result"
    }
   ],
   "source": [
    "collection.get()"
   ]
  },
  {
   "cell_type": "code",
   "execution_count": null,
   "id": "ab55f48b",
   "metadata": {},
   "outputs": [
    {
     "data": {
      "text/plain": [
       "{'ids': [['id3', 'id4']],\n",
       " 'embeddings': None,\n",
       " 'documents': [['This is a document about cpu',\n",
       "   'This is a document about gpu']],\n",
       " 'uris': None,\n",
       " 'included': ['metadatas', 'documents', 'distances'],\n",
       " 'data': None,\n",
       " 'metadatas': [[{'url': 'https://en.wikipedia.org/wiki/Central_processing_unit'},\n",
       "   {'url': 'https://en.wikipedia.org/wiki/Graphics_processing_unit'}]],\n",
       " 'distances': [[0.9372293949127197, 1.2746198177337646]]}"
      ]
     },
     "execution_count": 40,
     "metadata": {},
     "output_type": "execute_result"
    }
   ],
   "source": [
    "results = collection.query(\n",
    "    query_texts=[\"This is a query document about core\"], # Chroma will embed this for you\n",
    "    n_results=2 # how many results to return\n",
    ")\n",
    "results"
   ]
  }
 ],
 "metadata": {
  "kernelspec": {
   "display_name": "coldemail",
   "language": "python",
   "name": "python3"
  },
  "language_info": {
   "codemirror_mode": {
    "name": "ipython",
    "version": 3
   },
   "file_extension": ".py",
   "mimetype": "text/x-python",
   "name": "python",
   "nbconvert_exporter": "python",
   "pygments_lexer": "ipython3",
   "version": "3.10.18"
  }
 },
 "nbformat": 4,
 "nbformat_minor": 5
}
