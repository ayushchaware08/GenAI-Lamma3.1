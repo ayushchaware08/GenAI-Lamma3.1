{
 "cells": [
  {
   "cell_type": "code",
   "execution_count": 1,
   "id": "3feb8673",
   "metadata": {},
   "outputs": [],
   "source": [
    "import getpass\n",
    "import os\n",
    "\n",
    "# Force re-entering the API key\n",
    "os.environ.pop(\"GROQ_API_KEY\", None)\n",
    "os.environ[\"GROQ_API_KEY\"] = getpass.getpass(\"Enter your Groq API key: \")"
   ]
  },
  {
   "cell_type": "code",
   "execution_count": null,
   "id": "175be5da",
   "metadata": {},
   "outputs": [
    {
     "name": "stdout",
     "output_type": "stream",
     "text": [
      "Note: you may need to restart the kernel to use updated packages.\n"
     ]
    }
   ],
   "source": [
    "%pip install -qU langchain-groq"
   ]
  },
  {
   "cell_type": "code",
   "execution_count": 2,
   "id": "6be116da",
   "metadata": {},
   "outputs": [],
   "source": [
    "from langchain_groq import ChatGroq"
   ]
  },
  {
   "cell_type": "code",
   "execution_count": 3,
   "id": "b7072dcd",
   "metadata": {},
   "outputs": [
    {
     "name": "stdout",
     "output_type": "stream",
     "text": [
      "<think>\n",
      "\n",
      "</think>\n",
      "\n",
      "The capital of France is Paris.\n"
     ]
    }
   ],
   "source": [
    "llm = ChatGroq(\n",
    "    model='deepseek-r1-distill-llama-70b',\n",
    "    temperature=0.1,\n",
    "    api_key=os.environ[\"GROQ_API_KEY\"]\n",
    ")\n",
    "\n",
    "response = llm.invoke(\"What is the capital of France?\")\n",
    "\n",
    "print(response.content)"
   ]
  },
  {
   "cell_type": "markdown",
   "id": "80611a4e",
   "metadata": {},
   "source": [
    "### Web Scraping\n"
   ]
  },
  {
   "cell_type": "code",
   "execution_count": 4,
   "id": "425d8294",
   "metadata": {},
   "outputs": [
    {
     "name": "stdout",
     "output_type": "stream",
     "text": [
      "Note: you may need to restart the kernel to use updated packages.\n"
     ]
    }
   ],
   "source": [
    "%pip install -qU langchain_community"
   ]
  },
  {
   "cell_type": "code",
   "execution_count": null,
   "id": "ec4bfca7",
   "metadata": {},
   "outputs": [],
   "source": [
    "import os\n",
    "\n",
    "# Set a user agent string\n",
    "os.environ[\"USER_AGENT\"] = \"Mozilla/5.0 (Windows NT 10.0; Win64; x64) AppleWebKit/537.36 (KHTML, like Gecko) Chrome/124.0.0.0 Safari/537.36\""
   ]
  },
  {
   "cell_type": "code",
   "execution_count": 6,
   "id": "a023a73e",
   "metadata": {},
   "outputs": [],
   "source": [
    "# Importing the WebBaseLoader from langchain_community\n",
    "from langchain_community.document_loaders import WebBaseLoader\n",
    "\n",
    "loader = WebBaseLoader(\"https://www.google.com/about/careers/applications/jobs/results/110690555461018310-software-engineer-iii-infrastructure-core\")"
   ]
  },
  {
   "cell_type": "code",
   "execution_count": 7,
   "id": "a183a4d0",
   "metadata": {},
   "outputs": [
    {
     "name": "stdout",
     "output_type": "stream",
     "text": [
      "Software Engineer III, Infrastructure, Core — Google CareersCareersCareersSkip navigation linkshomehomeHomeHomework_outlinework_outlineJobsJobsnoogler_hatnoogler_hatStudentsStudentsgooglegoogleHow we workHow we workhandymanhandymanHow we hireHow we hireperson_outlineperson_outlineYour careerYour careerhelp_outlineHelp linkfeedbackSend feedbackmore_vert HelpSend FeedbackSign inCareersCareershomeHomework_outlineJobsexpand_morenoogler_hatStudentsexpand_moregoogleHow we workexpand_morehandymanHow we hireexpand_moreperson_outlineYour careerexpand_morejob detailsarrow_backBack to jobs searchJobs search results2,782  jobs matchedSoftware Engineer III, Infrastructure, CoreBengaluru, Karnataka, IndiaSenior Software Engineer, Android PartnerWarsaw, PolandSenior Software Engineer, Google Cloud DataprocSunnyvale, CA, USASoftware Engineer III, Google CloudBengaluru, Karnataka, India; Pune, Maharashtra, India; +2 more; +1 moreAccount Manager, Large Customer Sales (English, Thai)Bangkok, ThailandCustomer Engineer, Migration, Google CloudTaipei, TaiwanSecurity Sales Specialist, Small/Medium Businesses (German)Dublin, IrelandSoftware EngineerSydney NSW, AustraliaNetwork RTL Design Engineer, Google CloudTel Aviv, Israel; Haifa, IsraelStrategic Partner Manager, Large Partner, Sellside MonetizationBeijing, China; Shanghai, ChinaEngineering Manager, Unified Autoscaling TeamWarsaw, PolandPrincipal Architect, Google CloudChicago, IL, USA; Novi, MI, USA; +3 more; +2 more | Remote eligibleAccount Strategist, SBS Engage, GCS, (Ukrainian, English)Dublin, IrelandSenior Software Engineer, Chrome Product SecurityMexico City, CDMX, MexicoSenior System Software Engineer, Embedded Systems, Firmware, PixelNew Taipei, Banqiao District, New Taipei City, TaiwanSoftware Engineer, gReach Program for People with Disabilities (장애인 채용)Seoul, South KoreaBusiness Intelligence Analyst, Cloud SupportWaterloo, ON, CanadaProgram Manager, AI Data OperationsHyderabad, Telangana, India; Bengaluru, Karnataka, IndiaAccount Executive, Mid-Market Sales, Google Customer Solutions (Polish, English)Dublin, IrelandSenior Technical Program Manager, Infrastructure Deployment SoftwareSunnyvale, CA, USA1‑20 of 2782navigate_nextFollow Life at Google on More about usAbout usopen_in_newContact usopen_in_newPressopen_in_newRelated InformationInvestor relationsopen_in_newBlogopen_in_newEqual OpportunityGoogle is proud to be an equal opportunity and affirmative action employer. We are committed to building a workforce that is representative of the users we serve, creating a culture of belonging, and providing an equal employment opportunity regardless of race, creed, color, religion, gender, sexual orientation, gender identity/expression, national origin, disability, age, genetic information, veteran status, marital status, pregnancy or related condition (including breastfeeding), expecting or parents-to-be, criminal histories consistent with legal requirements, or any other basis protected by law. See also  Google's EEO Policy, Know your rights: workplace discrimination is illegal, Belonging at Google, and How we hire.More about usexpand_moreRelated informationexpand_moreEqual opportunityexpand_morePrivacyopen_in_newApplicant & Candidate Privacyopen_in_newTermsopen_in_newhelpHelpopen_in_newarrow_backBack to jobs searchSoftware Engineer III, Infrastructure, Coreshare linkCopy linkemailEmail a friendcorporate_fareGoogleplaceBengaluru, Karnataka, Indiabar_chartMidMidExperience driving progress, solving problems, and mentoring more junior team members; deeper expertise and applied knowledge within relevant area.Applyshare linkCopy linkemailEmail a friendMinimum qualifications:\n",
      "Bachelor’s degree or equivalent practical experience.2 years of experience with software development in one or more programming languages, or 1 year of experience with an advanced degree.\n",
      "Preferred qualifications:\n",
      "Master's degree or PhD in Computer Science or related technical fields.2 years of experience building and developing infrastructure, distributed systems or networks, or experience with compute technologies, storage, or hardware architecture.2 years of experience with data structures or algorithms in either an academic or industry setting.Experience developing accessible technologies.\n",
      "About the jobGoogle's software engineers develop the next-generation technologies that change how billions of users connect, explore, and interact with information and one another. Our products need to handle information at massive scale, and extend well beyond web search. We're looking for engineers who bring fresh ideas from all areas, including information retrieval, distributed computing, large-scale system design, networking and data storage, security, artificial intelligence, natural language processing, UI design and mobile; the list goes on and is growing every day. As a software engineer, you will work on a specific project critical to Google’s needs with opportunities to switch teams and projects as you and our fast-paced business grow and evolve. We need our engineers to be versatile, display leadership qualities and be enthusiastic to take on new problems across the full-stack as we continue to push technology forward.\n",
      "With your technical expertise you will manage project priorities, deadlines, and deliverables. You will design, develop, test, deploy, maintain, and enhance software solutions.\n",
      "The Core team builds the technical foundation behind Google’s flagship products. We are owners and advocates for the underlying design elements, developer platforms, product components, and infrastructure at Google. These are the essential building blocks for excellent, safe, and coherent experiences for our users and drive the pace of innovation for every developer. We look across Google’s products to build central solutions, break down technical barriers and strengthen existing systems. As the Core team, we have a mandate and a unique opportunity to impact important technical decisions across the company.Responsibilities\n",
      "Write product or system development code.\n",
      "Participate in, or lead design reviews with peers and stakeholders to decide amongst available technologies.\n",
      "Review code developed by other developers and provide feedback to ensure best practices (e.g., style guidelines, checking code in, accuracy, testability, and efficiency).\n",
      "Contribute to existing documentation or educational content and adapt content based on product/program updates and user feedback.\n",
      "Triage product or system issues and debug/track/resolve by analyzing the sources of issues and the impact on hardware, network, or service operations and quality.\n",
      "Information collected and processed as part of your Google Careers profile, and any job applications you choose to submit is subject to Google's Applicant and Candidate Privacy Policy.Google is proud to be an equal opportunity and affirmative action employer. We are committed to building a workforce that is representative of the users we serve, creating a culture of belonging, and providing an equal employment opportunity regardless of race, creed, color, religion, gender, sexual orientation, gender identity/expression, national origin, disability, age, genetic information, veteran status, marital status, pregnancy or related condition (including breastfeeding), expecting or parents-to-be, criminal histories consistent with legal requirements, or any other basis protected by law. See also  Google's EEO Policy, Know your rights: workplace discrimination is illegal, Belonging at Google, and How we hire.If you have a need that requires accommodation, please let us know by completing our Accommodations for Applicants form.Google is a global company and, in order to facilitate efficient collaboration and communication globally, English proficiency is a requirement for all roles unless stated otherwise in the job posting.To all recruitment agencies: Google does not accept agency resumes. Please do not forward resumes to our jobs alias, Google employees, or any other organization location. Google is not responsible for any fees related to unsolicited resumes.Follow Life at Google on More about usAbout usopen_in_newContact usopen_in_newPressopen_in_newRelated InformationInvestor relationsopen_in_newBlogopen_in_newEqual OpportunityGoogle is proud to be an equal opportunity and affirmative action employer. We are committed to building a workforce that is representative of the users we serve, creating a culture of belonging, and providing an equal employment opportunity regardless of race, creed, color, religion, gender, sexual orientation, gender identity/expression, national origin, disability, age, genetic information, veteran status, marital status, pregnancy or related condition (including breastfeeding), expecting or parents-to-be, criminal histories consistent with legal requirements, or any other basis protected by law. See also  Google's EEO Policy, Know your rights: workplace discrimination is illegal, Belonging at Google, and How we hire.More about usexpand_moreRelated informationexpand_moreEqual opportunityexpand_morePrivacyopen_in_newApplicant & Candidate Privacyopen_in_newTermsopen_in_newhelpHelpopen_in_newFollow Life at Google on More about usAbout usopen_in_newContact usopen_in_newPressopen_in_newRelated InformationInvestor relationsopen_in_newBlogopen_in_newEqual OpportunityGoogle is proud to be an equal opportunity and affirmative action employer. We are committed to building a workforce that is representative of the users we serve, creating a culture of belonging, and providing an equal employment opportunity regardless of race, creed, color, religion, gender, sexual orientation, gender identity/expression, national origin, disability, age, genetic information, veteran status, marital status, pregnancy or related condition (including breastfeeding), expecting or parents-to-be, criminal histories consistent with legal requirements, or any other basis protected by law. See also  Google's EEO Policy, Know your rights: workplace discrimination is illegal, Belonging at Google, and How we hire.More about usexpand_moreRelated informationexpand_moreEqual opportunityexpand_morePrivacyopen_in_newApplicant & Candidate Privacyopen_in_newTermsopen_in_newhelpHelpopen_in_newGoogle appsMain menu\n"
     ]
    }
   ],
   "source": [
    "page_loader = loader.load().pop().page_content\n",
    "print(page_loader)"
   ]
  },
  {
   "cell_type": "markdown",
   "id": "aee4bda1",
   "metadata": {},
   "source": [
    "using promt technique"
   ]
  },
  {
   "cell_type": "code",
   "execution_count": 8,
   "id": "74e0a6f6",
   "metadata": {},
   "outputs": [],
   "source": [
    "from langchain_core.prompts import PromptTemplate\n",
    "# text extraction promt Template\n",
    "promt_extract = PromptTemplate.from_template(\n",
    "    '''\n",
    "    ### SCRAPED TEXT FROM WEBSITE:\n",
    "    {page_data}\n",
    "    ### INSTRUCTION\n",
    "    The scraped text id from the carrer's page of a website.\n",
    "    your job is to extract the job posting and return them in JSON format containing following keys: 'role', experience', 'skills', and 'description'.\n",
    "    only return the valid JSON\n",
    "    ### VALID JSON (NO PREAMBLE) \n",
    "    '''\n",
    ")"
   ]
  },
  {
   "cell_type": "code",
   "execution_count": 9,
   "id": "a90718eb",
   "metadata": {},
   "outputs": [
    {
     "data": {
      "text/plain": [
       "AIMessage(content='<think>\\nOkay, so I need to extract the job posting from the given scraped text and return it in JSON format with specific keys: \\'role\\', \\'experience\\', \\'skills\\', and \\'description\\'. Let me go through the text step by step.\\n\\nFirst, I\\'ll look for the job title. The text starts with \"Software Engineer III, Infrastructure, Core — Google Careers\", so the role is clearly \"Software Engineer III, Infrastructure, Core\".\\n\\nNext, I need to find the experience required. Scanning through the text, under \"Minimum qualifications\", it mentions a Bachelor’s degree or equivalent experience, 2 years of software development experience, or 1 year with an advanced degree. So that\\'s the experience section.\\n\\nFor skills, the preferred qualifications include a Master\\'s or PhD in Computer Science, experience with infrastructure, distributed systems, data structures, algorithms, and accessible technologies. I\\'ll list these as skills.\\n\\nThe description is a bit longer. It talks about Google\\'s software engineers developing next-gen technologies, handling massive scale, and working on various projects. It also mentions the Core team building the technical foundation, their responsibilities, and the impact they have. I\\'ll condense this into a concise description.\\n\\nI need to make sure each section is correctly placed under the right key in JSON. Also, I should avoid any markdown and ensure the JSON is valid. Let me structure it properly without any extra text or formatting.\\n</think>\\n\\n```json\\n{\\n  \"role\": \"Software Engineer III, Infrastructure, Core\",\\n  \"experience\": \"Bachelor’s degree or equivalent practical experience. 2 years of experience with software development in one or more programming languages, or 1 year of experience with an advanced degree.\",\\n  \"skills\": [\\n    \"Master\\'s degree or PhD in Computer Science or related technical fields.\",\\n    \"2 years of experience building and developing infrastructure, distributed systems or networks, or experience with compute technologies, storage, or hardware architecture.\",\\n    \"2 years of experience with data structures or algorithms in either an academic or industry setting.\",\\n    \"Experience developing accessible technologies.\"\\n  ],\\n  \"description\": \"Google\\'s software engineers develop the next-generation technologies that change how billions of users connect, explore, and interact with information and one another. Our products need to handle information at massive scale, and extend well beyond web search. We\\'re looking for engineers who bring fresh ideas from all areas, including information retrieval, distributed computing, large-scale system design, networking and data storage, security, artificial intelligence, natural language processing, UI design and mobile; the list goes on and is growing every day. As a software engineer, you will work on a specific project critical to Google’s needs with opportunities to switch teams and projects as you and our fast-paced business grow and evolve. We need our engineers to be versatile, display leadership qualities and be enthusiastic to take on new problems across the full-stack as we continue to push technology forward. With your technical expertise you will manage project priorities, deadlines, and deliverables. You will design, develop, test, deploy, maintain, and enhance software solutions. The Core team builds the technical foundation behind Google’s flagship products. We are owners and advocates for the underlying design elements, developer platforms, product components, and infrastructure at Google. These are the essential building blocks for excellent, safe, and coherent experiences for our users and drive the pace of innovation for every developer. We look across Google’s products to build central solutions, break down technical barriers and strengthen existing systems. As the Core team, we have a mandate and a unique opportunity to impact important technical decisions across the company.\"\\n}\\n```', additional_kwargs={}, response_metadata={'token_usage': {'completion_tokens': 729, 'prompt_tokens': 2053, 'total_tokens': 2782, 'completion_time': 2.650909091, 'prompt_time': 0.173901197, 'queue_time': 0.054869800999999996, 'total_time': 2.824810288}, 'model_name': 'deepseek-r1-distill-llama-70b', 'system_fingerprint': 'fp_1bbe7845ec', 'finish_reason': 'stop', 'logprobs': None}, id='run--0e80cac4-a85b-4ff4-967f-5ec6117a2365-0', usage_metadata={'input_tokens': 2053, 'output_tokens': 729, 'total_tokens': 2782})"
      ]
     },
     "execution_count": 9,
     "metadata": {},
     "output_type": "execute_result"
    }
   ],
   "source": [
    "# Using the prompt template with the loaded page content\n",
    "chain_extract = promt_extract | llm\n",
    "chain_extract.invoke(\n",
    "    input ={\n",
    "        \"page_data\": page_loader\n",
    "    }\n",
    ")"
   ]
  },
  {
   "cell_type": "code",
   "execution_count": null,
   "id": "58d88e56",
   "metadata": {},
   "outputs": [],
   "source": []
  }
 ],
 "metadata": {
  "kernelspec": {
   "display_name": "coldemail",
   "language": "python",
   "name": "python3"
  },
  "language_info": {
   "codemirror_mode": {
    "name": "ipython",
    "version": 3
   },
   "file_extension": ".py",
   "mimetype": "text/x-python",
   "name": "python",
   "nbconvert_exporter": "python",
   "pygments_lexer": "ipython3",
   "version": "3.10.18"
  }
 },
 "nbformat": 4,
 "nbformat_minor": 5
}
