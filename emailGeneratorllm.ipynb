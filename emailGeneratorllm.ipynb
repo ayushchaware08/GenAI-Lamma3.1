{
 "cells": [
  {
   "cell_type": "code",
   "execution_count": 1,
   "id": "3feb8673",
   "metadata": {},
   "outputs": [],
   "source": [
    "import getpass\n",
    "import os\n",
    "\n",
    "# Force re-entering the API key\n",
    "os.environ.pop(\"GROQ_API_KEY\", None)\n",
    "os.environ[\"GROQ_API_KEY\"] = getpass.getpass(\"Enter your Groq API key: \")"
   ]
  },
  {
   "cell_type": "code",
   "execution_count": 2,
   "id": "175be5da",
   "metadata": {},
   "outputs": [
    {
     "name": "stdout",
     "output_type": "stream",
     "text": [
      "Note: you may need to restart the kernel to use updated packages.\n"
     ]
    }
   ],
   "source": [
    "%pip install -qU langchain-groq"
   ]
  },
  {
   "cell_type": "code",
   "execution_count": 3,
   "id": "6be116da",
   "metadata": {},
   "outputs": [],
   "source": [
    "from langchain_groq import ChatGroq"
   ]
  },
  {
   "cell_type": "code",
   "execution_count": 4,
   "id": "b7072dcd",
   "metadata": {},
   "outputs": [
    {
     "name": "stdout",
     "output_type": "stream",
     "text": [
      "<think>\n",
      "\n",
      "</think>\n",
      "\n",
      "The capital of France is Paris.\n"
     ]
    }
   ],
   "source": [
    "llm = ChatGroq(\n",
    "    model='deepseek-r1-distill-llama-70b',\n",
    "    temperature=0.1,\n",
    "    api_key=os.environ[\"GROQ_API_KEY\"]\n",
    ")\n",
    "\n",
    "response = llm.invoke(\"What is the capital of France?\")\n",
    "\n",
    "print(response.content)"
   ]
  },
  {
   "cell_type": "markdown",
   "id": "80611a4e",
   "metadata": {},
   "source": [
    "### Web Scraping\n"
   ]
  },
  {
   "cell_type": "code",
   "execution_count": 4,
   "id": "425d8294",
   "metadata": {},
   "outputs": [
    {
     "name": "stdout",
     "output_type": "stream",
     "text": [
      "Note: you may need to restart the kernel to use updated packages.\n"
     ]
    }
   ],
   "source": [
    "%pip install -qU langchain_community"
   ]
  },
  {
   "cell_type": "code",
   "execution_count": 5,
   "id": "ec4bfca7",
   "metadata": {},
   "outputs": [],
   "source": [
    "import os\n",
    "\n",
    "# Set a user agent string\n",
    "os.environ[\"USER_AGENT\"] = \"Mozilla/5.0 (Windows NT 10.0; Win64; x64) AppleWebKit/537.36 (KHTML, like Gecko) Chrome/124.0.0.0 Safari/537.36\""
   ]
  },
  {
   "cell_type": "code",
   "execution_count": null,
   "id": "a023a73e",
   "metadata": {},
   "outputs": [],
   "source": [
    "# Importing the WebBaseLoader from langchain_community\n",
    "from langchain_community.document_loaders import WebBaseLoader\n",
    "\n",
    "loader = WebBaseLoader(\"https://www.google.com/about/careers/applications/jobs/results/110690555461018310-software-engineer-iii-infrastructure-core\")"
   ]
  },
  {
   "cell_type": "code",
   "execution_count": 11,
   "id": "a183a4d0",
   "metadata": {},
   "outputs": [
    {
     "name": "stdout",
     "output_type": "stream",
     "text": [
      "Software Engineer III, Infrastructure, Core — Google CareersCareersCareersSkip navigation linkshomehomeHomeHomework_outlinework_outlineJobsJobsnoogler_hatnoogler_hatStudentsStudentsgooglegoogleHow we workHow we workhandymanhandymanHow we hireHow we hireperson_outlineperson_outlineYour careerYour careerhelp_outlineHelp linkfeedbackSend feedbackmore_vert HelpSend FeedbackSign inCareersCareershomeHomework_outlineJobsexpand_morenoogler_hatStudentsexpand_moregoogleHow we workexpand_morehandymanHow we hireexpand_moreperson_outlineYour careerexpand_morejob detailsarrow_backBack to jobs searchJobs search results2,782  jobs matchedSoftware Engineer III, Infrastructure, CoreBengaluru, Karnataka, IndiaSenior Software Engineer, Android PartnerWarsaw, PolandSenior Software Engineer, Google Cloud DataprocSunnyvale, CA, USASoftware Engineer III, Google CloudBengaluru, Karnataka, India; Pune, Maharashtra, India; +2 more; +1 moreAccount Manager, Large Customer Sales (English, Thai)Bangkok, ThailandCustomer Engineer, Migration, Google CloudTaipei, TaiwanSecurity Sales Specialist, Small/Medium Businesses (German)Dublin, IrelandSoftware EngineerSydney NSW, AustraliaNetwork RTL Design Engineer, Google CloudTel Aviv, Israel; Haifa, IsraelStrategic Partner Manager, Large Partner, Sellside MonetizationBeijing, China; Shanghai, ChinaEngineering Manager, Unified Autoscaling TeamWarsaw, PolandPrincipal Architect, Google CloudChicago, IL, USA; Novi, MI, USA; +3 more; +2 more | Remote eligibleAccount Strategist, SBS Engage, GCS, (Ukrainian, English)Dublin, IrelandSenior Software Engineer, Chrome Product SecurityMexico City, CDMX, MexicoSenior System Software Engineer, Embedded Systems, Firmware, PixelNew Taipei, Banqiao District, New Taipei City, TaiwanSoftware Engineer, gReach Program for People with Disabilities (장애인 채용)Seoul, South KoreaBusiness Intelligence Analyst, Cloud SupportWaterloo, ON, CanadaProgram Manager, AI Data OperationsHyderabad, Telangana, India; Bengaluru, Karnataka, IndiaAccount Executive, Mid-Market Sales, Google Customer Solutions (Polish, English)Dublin, IrelandSenior Technical Program Manager, Infrastructure Deployment SoftwareSunnyvale, CA, USA1‑20 of 2782navigate_nextFollow Life at Google on More about usAbout usopen_in_newContact usopen_in_newPressopen_in_newRelated InformationInvestor relationsopen_in_newBlogopen_in_newEqual OpportunityGoogle is proud to be an equal opportunity and affirmative action employer. We are committed to building a workforce that is representative of the users we serve, creating a culture of belonging, and providing an equal employment opportunity regardless of race, creed, color, religion, gender, sexual orientation, gender identity/expression, national origin, disability, age, genetic information, veteran status, marital status, pregnancy or related condition (including breastfeeding), expecting or parents-to-be, criminal histories consistent with legal requirements, or any other basis protected by law. See also  Google's EEO Policy, Know your rights: workplace discrimination is illegal, Belonging at Google, and How we hire.More about usexpand_moreRelated informationexpand_moreEqual opportunityexpand_morePrivacyopen_in_newApplicant & Candidate Privacyopen_in_newTermsopen_in_newhelpHelpopen_in_newarrow_backBack to jobs searchSoftware Engineer III, Infrastructure, Coreshare linkCopy linkemailEmail a friendcorporate_fareGoogleplaceBengaluru, Karnataka, Indiabar_chartMidMidExperience driving progress, solving problems, and mentoring more junior team members; deeper expertise and applied knowledge within relevant area.Applyshare linkCopy linkemailEmail a friendMinimum qualifications:\n",
      "Bachelor’s degree or equivalent practical experience.2 years of experience with software development in one or more programming languages, or 1 year of experience with an advanced degree.\n",
      "Preferred qualifications:\n",
      "Master's degree or PhD in Computer Science or related technical fields.2 years of experience building and developing infrastructure, distributed systems or networks, or experience with compute technologies, storage, or hardware architecture.2 years of experience with data structures or algorithms in either an academic or industry setting.Experience developing accessible technologies.\n",
      "About the jobGoogle's software engineers develop the next-generation technologies that change how billions of users connect, explore, and interact with information and one another. Our products need to handle information at massive scale, and extend well beyond web search. We're looking for engineers who bring fresh ideas from all areas, including information retrieval, distributed computing, large-scale system design, networking and data storage, security, artificial intelligence, natural language processing, UI design and mobile; the list goes on and is growing every day. As a software engineer, you will work on a specific project critical to Google’s needs with opportunities to switch teams and projects as you and our fast-paced business grow and evolve. We need our engineers to be versatile, display leadership qualities and be enthusiastic to take on new problems across the full-stack as we continue to push technology forward.\n",
      "With your technical expertise you will manage project priorities, deadlines, and deliverables. You will design, develop, test, deploy, maintain, and enhance software solutions.\n",
      "The Core team builds the technical foundation behind Google’s flagship products. We are owners and advocates for the underlying design elements, developer platforms, product components, and infrastructure at Google. These are the essential building blocks for excellent, safe, and coherent experiences for our users and drive the pace of innovation for every developer. We look across Google’s products to build central solutions, break down technical barriers and strengthen existing systems. As the Core team, we have a mandate and a unique opportunity to impact important technical decisions across the company.Responsibilities\n",
      "Write product or system development code.\n",
      "Participate in, or lead design reviews with peers and stakeholders to decide amongst available technologies.\n",
      "Review code developed by other developers and provide feedback to ensure best practices (e.g., style guidelines, checking code in, accuracy, testability, and efficiency).\n",
      "Contribute to existing documentation or educational content and adapt content based on product/program updates and user feedback.\n",
      "Triage product or system issues and debug/track/resolve by analyzing the sources of issues and the impact on hardware, network, or service operations and quality.\n",
      "Information collected and processed as part of your Google Careers profile, and any job applications you choose to submit is subject to Google's Applicant and Candidate Privacy Policy.Google is proud to be an equal opportunity and affirmative action employer. We are committed to building a workforce that is representative of the users we serve, creating a culture of belonging, and providing an equal employment opportunity regardless of race, creed, color, religion, gender, sexual orientation, gender identity/expression, national origin, disability, age, genetic information, veteran status, marital status, pregnancy or related condition (including breastfeeding), expecting or parents-to-be, criminal histories consistent with legal requirements, or any other basis protected by law. See also  Google's EEO Policy, Know your rights: workplace discrimination is illegal, Belonging at Google, and How we hire.If you have a need that requires accommodation, please let us know by completing our Accommodations for Applicants form.Google is a global company and, in order to facilitate efficient collaboration and communication globally, English proficiency is a requirement for all roles unless stated otherwise in the job posting.To all recruitment agencies: Google does not accept agency resumes. Please do not forward resumes to our jobs alias, Google employees, or any other organization location. Google is not responsible for any fees related to unsolicited resumes.Follow Life at Google on More about usAbout usopen_in_newContact usopen_in_newPressopen_in_newRelated InformationInvestor relationsopen_in_newBlogopen_in_newEqual OpportunityGoogle is proud to be an equal opportunity and affirmative action employer. We are committed to building a workforce that is representative of the users we serve, creating a culture of belonging, and providing an equal employment opportunity regardless of race, creed, color, religion, gender, sexual orientation, gender identity/expression, national origin, disability, age, genetic information, veteran status, marital status, pregnancy or related condition (including breastfeeding), expecting or parents-to-be, criminal histories consistent with legal requirements, or any other basis protected by law. See also  Google's EEO Policy, Know your rights: workplace discrimination is illegal, Belonging at Google, and How we hire.More about usexpand_moreRelated informationexpand_moreEqual opportunityexpand_morePrivacyopen_in_newApplicant & Candidate Privacyopen_in_newTermsopen_in_newhelpHelpopen_in_newFollow Life at Google on More about usAbout usopen_in_newContact usopen_in_newPressopen_in_newRelated InformationInvestor relationsopen_in_newBlogopen_in_newEqual OpportunityGoogle is proud to be an equal opportunity and affirmative action employer. We are committed to building a workforce that is representative of the users we serve, creating a culture of belonging, and providing an equal employment opportunity regardless of race, creed, color, religion, gender, sexual orientation, gender identity/expression, national origin, disability, age, genetic information, veteran status, marital status, pregnancy or related condition (including breastfeeding), expecting or parents-to-be, criminal histories consistent with legal requirements, or any other basis protected by law. See also  Google's EEO Policy, Know your rights: workplace discrimination is illegal, Belonging at Google, and How we hire.More about usexpand_moreRelated informationexpand_moreEqual opportunityexpand_morePrivacyopen_in_newApplicant & Candidate Privacyopen_in_newTermsopen_in_newhelpHelpopen_in_newGoogle appsMain menu\n"
     ]
    }
   ],
   "source": [
    "page_data = loader.load().pop().page_content\n",
    "print(page_data)"
   ]
  },
  {
   "cell_type": "markdown",
   "id": "aee4bda1",
   "metadata": {},
   "source": [
    "using promt technique"
   ]
  },
  {
   "cell_type": "code",
   "execution_count": null,
   "id": "74e0a6f6",
   "metadata": {},
   "outputs": [],
   "source": [
    "from langchain_core.prompts import PromptTemplate\n",
    "# text extraction promt Template\n",
    "promt_extract = PromptTemplate.from_template(\n",
    "    '''\n",
    "    ### SCRAPED TEXT FROM WEBSITE:\n",
    "    {page_data}\n",
    "    ### INSTRUCTION\n",
    "    The scraped text id from the carrer's page of a website.\n",
    "    your job is to extract the job posting and return them in JSON format containing following keys: 'role', experience', 'skills', and 'description'.\n",
    "    only return the valid JSON. make sure no other key present insise the key-value pair.\n",
    "    ### VALID JSON (NO PREAMBLE):\n",
    "    '''\n",
    ")"
   ]
  },
  {
   "cell_type": "code",
   "execution_count": null,
   "id": "a90718eb",
   "metadata": {},
   "outputs": [
    {
     "data": {
      "text/plain": [
       "str"
      ]
     },
     "execution_count": 18,
     "metadata": {},
     "output_type": "execute_result"
    }
   ],
   "source": [
    "# Using the prompt template with the loaded page content\n",
    "chain_extract = promt_extract | llm # chian formation\n",
    "res = chain_extract.invoke(\n",
    "    input ={\n",
    "        'page_data': page_data\n",
    "    }\n",
    ")\n"
   ]
  },
  {
   "cell_type": "code",
   "execution_count": 19,
   "id": "58d88e56",
   "metadata": {},
   "outputs": [
    {
     "data": {
      "text/plain": [
       "str"
      ]
     },
     "execution_count": 19,
     "metadata": {},
     "output_type": "execute_result"
    }
   ],
   "source": [
    "# print(res.content)\n",
    "type(res.content)"
   ]
  },
  {
   "cell_type": "code",
   "execution_count": 23,
   "id": "8e7e9d53",
   "metadata": {},
   "outputs": [
    {
     "data": {
      "text/plain": [
       "{'role': 'Software Engineer III, Infrastructure, Core',\n",
       " 'experience': ['Bachelor’s degree or equivalent practical experience.',\n",
       "  '2 years of experience with software development in one or more programming languages, or 1 year of experience with an advanced degree.',\n",
       "  \"Master's degree or PhD in Computer Science or related technical fields.\",\n",
       "  '2 years of experience building and developing infrastructure, distributed systems or networks, or experience with compute technologies, storage, or hardware architecture.',\n",
       "  '2 years of experience with data structures or algorithms in either an academic or industry setting.',\n",
       "  'Experience developing accessible technologies.'],\n",
       " 'skills': ['Software development',\n",
       "  'Infrastructure development',\n",
       "  'Distributed systems',\n",
       "  'Compute technologies',\n",
       "  'Storage',\n",
       "  'Hardware architecture',\n",
       "  'Data structures',\n",
       "  'Algorithms',\n",
       "  'Accessible technologies'],\n",
       " 'description': \"Google's software engineers develop the next-generation technologies that change how billions of users connect, explore, and interact with information and one another. Our products need to handle information at massive scale, and extend well beyond web search. We're looking for engineers who bring fresh ideas from all areas, including information retrieval, distributed computing, large-scale system design, networking and data storage, security, artificial intelligence, natural language processing, UI design and mobile; the list goes on and is growing every day. As a software engineer, you will work on a specific project critical to Google’s needs with opportunities to switch teams and projects as you and our fast-paced business grow and evolve. We need our engineers to be versatile, display leadership qualities and be enthusiastic to take on new problems across the full-stack as we continue to push technology forward. With your technical expertise you will manage project priorities, deadlines, and deliverables. You will design, develop, test, deploy, maintain, and enhance software solutions. The Core team builds the technical foundation behind Google’s flagship products. We are owners and advocates for the underlying design elements, developer platforms, product components, and infrastructure at Google. These are the essential building blocks for excellent, safe, and coherent experiences for our users and drive the pace of innovation for every developer. We look across Google’s products to build central solutions, break down technical barriers and strengthen existing systems. As the Core team, we have a mandate and a unique opportunity to impact important technical decisions across the company. Responsibilities include writing product or system development code, participating in or leading design reviews, reviewing code developed by other developers, contributing to existing documentation or educational content, and triaging product or system issues.\"}"
      ]
     },
     "execution_count": 23,
     "metadata": {},
     "output_type": "execute_result"
    }
   ],
   "source": [
    "#  convert str into json object (res.content)\n",
    "from langchain_core.output_parsers import JsonOutputParser\n",
    "json_parser = JsonOutputParser()\n",
    "json_res = json_parser.parse(res.content)\n",
    "json_res"
   ]
  },
  {
   "cell_type": "code",
   "execution_count": 27,
   "id": "b2118cc2",
   "metadata": {},
   "outputs": [
    {
     "data": {
      "text/plain": [
       "dict"
      ]
     },
     "execution_count": 27,
     "metadata": {},
     "output_type": "execute_result"
    }
   ],
   "source": [
    "type(json_res) # dict"
   ]
  },
  {
   "cell_type": "markdown",
   "id": "4c0faced",
   "metadata": {},
   "source": [
    "### my skills data\n",
    "store my skills with portfolio links on chroma db"
   ]
  },
  {
   "cell_type": "code",
   "execution_count": 46,
   "id": "08bc7f9d",
   "metadata": {},
   "outputs": [
    {
     "data": {
      "text/html": [
       "<div>\n",
       "<style scoped>\n",
       "    .dataframe tbody tr th:only-of-type {\n",
       "        vertical-align: middle;\n",
       "    }\n",
       "\n",
       "    .dataframe tbody tr th {\n",
       "        vertical-align: top;\n",
       "    }\n",
       "\n",
       "    .dataframe thead th {\n",
       "        text-align: right;\n",
       "    }\n",
       "</style>\n",
       "<table border=\"1\" class=\"dataframe\">\n",
       "  <thead>\n",
       "    <tr style=\"text-align: right;\">\n",
       "      <th></th>\n",
       "      <th>Techstack</th>\n",
       "      <th>Links</th>\n",
       "    </tr>\n",
       "  </thead>\n",
       "  <tbody>\n",
       "    <tr>\n",
       "      <th>0</th>\n",
       "      <td>React, Node.js, MongoDB</td>\n",
       "      <td>https://example.com/react-portfolio</td>\n",
       "    </tr>\n",
       "    <tr>\n",
       "      <th>1</th>\n",
       "      <td>Angular,.NET, SQL Server</td>\n",
       "      <td>https://example.com/angular-portfolio</td>\n",
       "    </tr>\n",
       "    <tr>\n",
       "      <th>2</th>\n",
       "      <td>Vue.js, Ruby on Rails, PostgreSQL</td>\n",
       "      <td>https://example.com/vue-portfolio</td>\n",
       "    </tr>\n",
       "    <tr>\n",
       "      <th>3</th>\n",
       "      <td>Python, Django, MySQL</td>\n",
       "      <td>https://example.com/python-portfolio</td>\n",
       "    </tr>\n",
       "    <tr>\n",
       "      <th>4</th>\n",
       "      <td>Java, Spring Boot, Oracle</td>\n",
       "      <td>https://example.com/java-portfolio</td>\n",
       "    </tr>\n",
       "  </tbody>\n",
       "</table>\n",
       "</div>"
      ],
      "text/plain": [
       "                           Techstack                                  Links\n",
       "0            React, Node.js, MongoDB    https://example.com/react-portfolio\n",
       "1           Angular,.NET, SQL Server  https://example.com/angular-portfolio\n",
       "2  Vue.js, Ruby on Rails, PostgreSQL      https://example.com/vue-portfolio\n",
       "3              Python, Django, MySQL   https://example.com/python-portfolio\n",
       "4          Java, Spring Boot, Oracle     https://example.com/java-portfolio"
      ]
     },
     "execution_count": 46,
     "metadata": {},
     "output_type": "execute_result"
    }
   ],
   "source": [
    "\n",
    "import pandas as pd\n",
    "df = pd.read_csv('my_portfolio.csv')\n",
    "df.head()"
   ]
  },
  {
   "cell_type": "code",
   "execution_count": 47,
   "id": "0464bb60",
   "metadata": {},
   "outputs": [],
   "source": [
    "import chromadb\n",
    "# Initialize the ChromaDB client and create a collection\n",
    "client = chromadb.PersistentClient('vectorstore') # persistant Client create a db on local disk\n",
    "# \n",
    "collection = client.get_or_create_collection(name=\"portfolio\")"
   ]
  },
  {
   "cell_type": "code",
   "execution_count": 48,
   "id": "b2044270",
   "metadata": {},
   "outputs": [],
   "source": [
    "import uuid\n",
    "\n",
    "# / if present continue else iterate through all the portfolio csv\n",
    "if not collection.count():\n",
    "    for _, row in df.iterrows():\n",
    "        collection.add(documents=row[\"Techstack\"],\n",
    "                                     metadatas={\"links\": row[\"Links\"]},\n",
    "                                     ids=[str(uuid.uuid4())])\n",
    "        \n",
    "# vectorstore is created"
   ]
  },
  {
   "cell_type": "code",
   "execution_count": 67,
   "id": "6f298c72",
   "metadata": {},
   "outputs": [
    {
     "data": {
      "text/plain": [
       "[[{'links': 'https://example.com/ml-python-portfolio'},\n",
       "  {'links': 'https://example.com/python-portfolio'}],\n",
       " [{'links': 'https://example.com/react-portfolio'},\n",
       "  {'links': 'https://example.com/react-native-portfolio'}]]"
      ]
     },
     "execution_count": 67,
     "metadata": {},
     "output_type": "execute_result"
    }
   ],
   "source": [
    "\n",
    "links = collection.query(query_texts=[\"Experience in python\", \"Experience in react\"], n_results=2).get('metadatas', [])\n",
    "links"
   ]
  },
  {
   "cell_type": "code",
   "execution_count": 68,
   "id": "dc7d6ed4",
   "metadata": {},
   "outputs": [
    {
     "data": {
      "text/plain": [
       "[[{'links': 'https://example.com/ml-python-portfolio'},\n",
       "  {'links': 'https://example.com/ios-ar-portfolio'}],\n",
       " [{'links': 'https://example.com/devops-portfolio'},\n",
       "  {'links': 'https://example.com/ml-python-portfolio'}],\n",
       " [{'links': 'https://example.com/android-portfolio'},\n",
       "  {'links': 'https://example.com/magento-portfolio'}],\n",
       " [{'links': 'https://example.com/ml-python-portfolio'},\n",
       "  {'links': 'https://example.com/ios-ar-portfolio'}],\n",
       " [{'links': 'https://example.com/android-portfolio'},\n",
       "  {'links': 'https://example.com/ios-portfolio'}],\n",
       " [{'links': 'https://example.com/ml-python-portfolio'},\n",
       "  {'links': 'https://example.com/android-portfolio'}],\n",
       " [{'links': 'https://example.com/ios-portfolio'},\n",
       "  {'links': 'https://example.com/magento-portfolio'}],\n",
       " [{'links': 'https://example.com/ml-python-portfolio'},\n",
       "  {'links': 'https://example.com/android-portfolio'}],\n",
       " [{'links': 'https://example.com/android-portfolio'},\n",
       "  {'links': 'https://example.com/ios-ar-portfolio'}]]"
      ]
     },
     "execution_count": 68,
     "metadata": {},
     "output_type": "execute_result"
    }
   ],
   "source": [
    "# links = collection.query(query_texts=[\"Experience in python\", \"Experience in react\"], n_results=2).get('metadatas', [])\n",
    "links = collection.query(query_texts=job['skills'], n_results=2).get('metadatas', [])\n",
    "links"
   ]
  },
  {
   "cell_type": "code",
   "execution_count": 69,
   "id": "c62ec64c",
   "metadata": {},
   "outputs": [
    {
     "data": {
      "text/plain": [
       "{'role': 'Software Engineer III, Infrastructure, Core',\n",
       " 'experience': ['Bachelor’s degree or equivalent practical experience.',\n",
       "  '2 years of experience with software development in one or more programming languages, or 1 year of experience with an advanced degree.',\n",
       "  \"Master's degree or PhD in Computer Science or related technical fields.\",\n",
       "  '2 years of experience building and developing infrastructure, distributed systems or networks, or experience with compute technologies, storage, or hardware architecture.',\n",
       "  '2 years of experience with data structures or algorithms in either an academic or industry setting.',\n",
       "  'Experience developing accessible technologies.'],\n",
       " 'skills': ['Software development',\n",
       "  'Infrastructure development',\n",
       "  'Distributed systems',\n",
       "  'Compute technologies',\n",
       "  'Storage',\n",
       "  'Hardware architecture',\n",
       "  'Data structures',\n",
       "  'Algorithms',\n",
       "  'Accessible technologies'],\n",
       " 'description': \"Google's software engineers develop the next-generation technologies that change how billions of users connect, explore, and interact with information and one another. Our products need to handle information at massive scale, and extend well beyond web search. We're looking for engineers who bring fresh ideas from all areas, including information retrieval, distributed computing, large-scale system design, networking and data storage, security, artificial intelligence, natural language processing, UI design and mobile; the list goes on and is growing every day. As a software engineer, you will work on a specific project critical to Google’s needs with opportunities to switch teams and projects as you and our fast-paced business grow and evolve. We need our engineers to be versatile, display leadership qualities and be enthusiastic to take on new problems across the full-stack as we continue to push technology forward. With your technical expertise you will manage project priorities, deadlines, and deliverables. You will design, develop, test, deploy, maintain, and enhance software solutions. The Core team builds the technical foundation behind Google’s flagship products. We are owners and advocates for the underlying design elements, developer platforms, product components, and infrastructure at Google. These are the essential building blocks for excellent, safe, and coherent experiences for our users and drive the pace of innovation for every developer. We look across Google’s products to build central solutions, break down technical barriers and strengthen existing systems. As the Core team, we have a mandate and a unique opportunity to impact important technical decisions across the company. Responsibilities include writing product or system development code, participating in or leading design reviews, reviewing code developed by other developers, contributing to existing documentation or educational content, and triaging product or system issues.\"}"
      ]
     },
     "execution_count": 69,
     "metadata": {},
     "output_type": "execute_result"
    }
   ],
   "source": [
    "job"
   ]
  },
  {
   "cell_type": "code",
   "execution_count": 70,
   "id": "c112ae81",
   "metadata": {},
   "outputs": [
    {
     "data": {
      "text/plain": [
       "['Software development',\n",
       " 'Infrastructure development',\n",
       " 'Distributed systems',\n",
       " 'Compute technologies',\n",
       " 'Storage',\n",
       " 'Hardware architecture',\n",
       " 'Data structures',\n",
       " 'Algorithms',\n",
       " 'Accessible technologies']"
      ]
     },
     "execution_count": 70,
     "metadata": {},
     "output_type": "execute_result"
    }
   ],
   "source": [
    "job = json_res\n",
    "job['skills']"
   ]
  },
  {
   "cell_type": "code",
   "execution_count": 78,
   "id": "0f51a488",
   "metadata": {},
   "outputs": [],
   "source": [
    "# Promt tempelate\n",
    "# {providing argument in tempelate}\n",
    "prompt_email = PromptTemplate.from_template(\n",
    "        \"\"\"\n",
    "        ### JOB DESCRIPTION:\n",
    "        {job_description}\n",
    "        \n",
    "        ### INSTRUCTION:\n",
    "        you are Ayush, a Software developer Engineer, working at some company. ayush, a passionate and curious learner diving deep into tech from the ground up. I started with C++ and problem-solving, and now I’m actively building full-stack AI web apps and exploring machine learning projects in NLP and computer vision. \n",
    "        I’m currently preparing for placements, with a strong focus on DSA, project development, and real-world impact through AI. I constantly seek opportunities to collaborate, learn, and grow in the tech ecosystem.\n",
    "        ayush was tech co-lead of google developer group.\n",
    "        Your job is to write a cold email to the recruter regarding the job mentioned above describing the capability of ayush in fulfilling their needs.\n",
    "        Also add the most relevant ones from the following links to showcase Scribo's portfolio: {link_list}\n",
    "        Remember you are Ayush, BDE at Scribo. \n",
    "        Do not provide a preamble.\n",
    "        ### EMAIL (NO PREAMBLE):\n",
    "        \n",
    "        \"\"\"\n",
    "        )\n",
    "\n",
    "# invoke chain\n",
    "chain_email = prompt_email | llm\n",
    "res = chain_email.invoke({\"job_description\": str(job), \"link_list\": links})"
   ]
  },
  {
   "cell_type": "code",
   "execution_count": 79,
   "id": "dde08129",
   "metadata": {},
   "outputs": [
    {
     "name": "stdout",
     "output_type": "stream",
     "text": [
      "<think>\n",
      "Okay, I need to help Ayush write a cold email to a recruiter for the Software Engineer III position at Google. Let me start by understanding the job description and Ayush's background.\n",
      "\n",
      "The job requires a bachelor's degree or equivalent experience, 2 years in software development, experience with infrastructure, distributed systems, data structures, algorithms, and accessible technologies. Skills include software and infrastructure development, distributed systems, compute tech, storage, hardware architecture, data structures, algorithms, and accessible tech.\n",
      "\n",
      "Ayush is a software developer with a background in C++ and problem-solving. He's now into full-stack AI web apps and ML projects in NLP and CV. He's preparing for placements, focusing on DSA, projects, and AI impact. He was the tech co-lead of the Google Developer Group.\n",
      "\n",
      "I need to highlight Ayush's relevant skills and experiences. He has experience in software development, which aligns with the job. His work in AI and ML, especially NLP and CV, shows his ability to handle complex systems. Leading the Google Developer Group indicates leadership and collaboration skills, which are important for the role.\n",
      "\n",
      "Looking at the portfolio links, the most relevant ones are the ML Python portfolio since it's mentioned multiple times. I should include that link to showcase his projects.\n",
      "\n",
      "The email should start with a greeting, express interest in the position, outline his qualifications, mention his portfolio, and offer to discuss further. It should be concise and professional.\n",
      "\n",
      "I should make sure to mention his technical skills, leadership experience, and how his projects demonstrate his capabilities. Also, include a call to action for an interview or discussion.\n",
      "\n",
      "Let me structure the email accordingly, making sure to include all the key points without being too lengthy.\n",
      "</think>\n",
      "\n",
      "Subject: Application for Software Engineer III, Infrastructure, Core Role\n",
      "\n",
      "Dear [Recruiter's Name],\n",
      "\n",
      "I hope this message finds you well. I am writing to express my interest in the Software Engineer III, Infrastructure, Core position at Google. With a strong foundation in software development and a passion for building scalable solutions, I am excited about the opportunity to contribute to Google's technical foundation.\n",
      "\n",
      "My journey in tech began with C++ and problem-solving, which laid the groundwork for my current work in full-stack AI web applications and machine learning projects, particularly in NLP and computer vision. My role as the Tech Co-Lead of the Google Developer Group has honed my leadership and collaborative skills, essential for driving technical decisions and fostering innovation.\n",
      "\n",
      "I am eager to bring my technical expertise and enthusiasm for impactful solutions to your team. I would welcome the opportunity to discuss how my background and projects align with Google's goals.\n",
      "\n",
      "Thank you for considering my application. I look forward to the possibility of contributing to Google's mission.\n",
      "\n",
      "Best regards,  \n",
      "Ayush  \n",
      "[Your Contact Information]  \n",
      "[Portfolio Link: https://example.com/ml-python-portfolio]\n"
     ]
    }
   ],
   "source": [
    "print(res.content)"
   ]
  },
  {
   "cell_type": "code",
   "execution_count": null,
   "id": "40ee5479",
   "metadata": {},
   "outputs": [],
   "source": []
  },
  {
   "cell_type": "code",
   "execution_count": null,
   "id": "f43e374d",
   "metadata": {},
   "outputs": [],
   "source": []
  }
 ],
 "metadata": {
  "kernelspec": {
   "display_name": "coldemail",
   "language": "python",
   "name": "python3"
  },
  "language_info": {
   "codemirror_mode": {
    "name": "ipython",
    "version": 3
   },
   "file_extension": ".py",
   "mimetype": "text/x-python",
   "name": "python",
   "nbconvert_exporter": "python",
   "pygments_lexer": "ipython3",
   "version": "3.10.18"
  }
 },
 "nbformat": 4,
 "nbformat_minor": 5
}
